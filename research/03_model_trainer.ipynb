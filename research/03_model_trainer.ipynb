{
 "cells": [
  {
   "cell_type": "code",
   "execution_count": 1,
   "metadata": {},
   "outputs": [
    {
     "data": {
      "text/plain": [
       "'e:\\\\Deep Learning\\\\pytorch\\\\Brain_Tumor_Classification(MRI)'"
      ]
     },
     "execution_count": 1,
     "metadata": {},
     "output_type": "execute_result"
    }
   ],
   "source": [
    "import os\n",
    "%pwd\n",
    "os.chdir(\"../\")\n",
    "%pwd"
   ]
  },
  {
   "cell_type": "code",
   "execution_count": 2,
   "metadata": {},
   "outputs": [],
   "source": [
    "from dataclasses import dataclass\n",
    "from pathlib import Path\n",
    "\n",
    "\n",
    "@dataclass(frozen=True)\n",
    "class TrainingConfig:\n",
    "    root_dir: Path\n",
    "    trained_model_path: Path\n",
    "    updated_base_model_path: Path\n",
    "    training_data: Path\n",
    "    params_epochs: int\n",
    "    params_batch_size: int\n",
    "    params_is_augmentation: bool\n",
    "    params_image_size: list"
   ]
  },
  {
   "cell_type": "code",
   "execution_count": 3,
   "metadata": {},
   "outputs": [],
   "source": [
    "from Brain_Tumor_Classification_MRI.constants import *\n",
    "from Brain_Tumor_Classification_MRI.utils.common import read_yaml, create_directories\n",
    "import tensorflow as tf"
   ]
  },
  {
   "cell_type": "code",
   "execution_count": 5,
   "metadata": {},
   "outputs": [],
   "source": [
    "class ConfigurationManager:\n",
    "    def __init__(\n",
    "        self,\n",
    "        config_filepath = CONFIG_FILE_PATH,\n",
    "        params_filepath = PARAMS_FILE_PATH):\n",
    "\n",
    "        self.config = read_yaml(config_filepath)\n",
    "        self.params = read_yaml(params_filepath)\n",
    "\n",
    "        create_directories([self.config.artifacts_root])\n",
    "\n",
    "        \n",
    "    def get_training_config(self) -> TrainingConfig:\n",
    "        training = self.config.training\n",
    "        prepare_base_model = self.config.prepare_base_model\n",
    "        params = self.params\n",
    "        training_data = os.path.join(self.config.data_ingestion.unzip_dir, \"dataset\")\n",
    "        create_directories([\n",
    "            Path(training.root_dir)\n",
    "        ])\n",
    "\n",
    "        training_config = TrainingConfig(\n",
    "            root_dir=Path(training.root_dir),\n",
    "            trained_model_path=Path(training.trained_model_path),\n",
    "            updated_base_model_path=Path(prepare_base_model.updated_base_model_path),\n",
    "            training_data=Path(training_data),\n",
    "            params_epochs=params.EPOCHS,\n",
    "            params_batch_size=params.BATCH_SIZE,\n",
    "            params_is_augmentation=params.AUGMENTATION,\n",
    "            params_image_size=params.IMAGE_SIZE\n",
    "        )\n",
    "\n",
    "        return training_config"
   ]
  },
  {
   "cell_type": "code",
   "execution_count": 6,
   "metadata": {},
   "outputs": [],
   "source": [
    "import os\n",
    "import urllib.request as request\n",
    "from zipfile import ZipFile\n",
    "import tensorflow as tf\n",
    "import time"
   ]
  },
  {
   "cell_type": "code",
   "execution_count": 10,
   "metadata": {},
   "outputs": [],
   "source": [
    "class Training:\n",
    "    def __init__(self, config: TrainingConfig):\n",
    "        self.config = config\n",
    "\n",
    "    \n",
    "    def get_base_model(self):\n",
    "        self.model = tf.keras.models.load_model(\n",
    "            self.config.updated_base_model_path\n",
    "        )\n",
    "\n",
    "    def train_valid_generator(self):\n",
    "\n",
    "        datagenerator_kwargs = dict(\n",
    "            rescale = 1./255,\n",
    "            validation_split=0.20\n",
    "        )\n",
    "\n",
    "        dataflow_kwargs = dict(\n",
    "            target_size=self.config.params_image_size[:-1],\n",
    "            batch_size=self.config.params_batch_size,\n",
    "            interpolation=\"bilinear\"\n",
    "        )\n",
    "\n",
    "        valid_datagenerator = tf.keras.preprocessing.image.ImageDataGenerator(\n",
    "            **datagenerator_kwargs\n",
    "        )\n",
    "\n",
    "        self.valid_generator = valid_datagenerator.flow_from_directory(\n",
    "            directory=self.config.training_data,\n",
    "            subset=\"validation\",\n",
    "            shuffle=False,\n",
    "            **dataflow_kwargs\n",
    "        )\n",
    "\n",
    "        if self.config.params_is_augmentation:\n",
    "            train_datagenerator = tf.keras.preprocessing.image.ImageDataGenerator(\n",
    "                rotation_range=40,\n",
    "                horizontal_flip=True,\n",
    "                width_shift_range=0.2,\n",
    "                height_shift_range=0.2,\n",
    "                shear_range=0.2,\n",
    "                zoom_range=0.2,\n",
    "                **datagenerator_kwargs\n",
    "            )\n",
    "        else:\n",
    "            train_datagenerator = valid_datagenerator\n",
    "\n",
    "        self.train_generator = train_datagenerator.flow_from_directory(\n",
    "            directory=self.config.training_data,\n",
    "            subset=\"training\",\n",
    "            shuffle=True,\n",
    "            **dataflow_kwargs\n",
    "        )\n",
    "\n",
    "    \n",
    "    @staticmethod\n",
    "    def save_model(path: Path, model: tf.keras.Model):\n",
    "        model.save(path)\n",
    "\n",
    "    \n",
    "    def train(self):\n",
    "        self.steps_per_epoch = self.train_generator.samples // self.train_generator.batch_size\n",
    "        self.validation_steps = self.valid_generator.samples // self.valid_generator.batch_size\n",
    "\n",
    "        self.model.fit(\n",
    "            self.train_generator,\n",
    "            epochs=self.config.params_epochs,\n",
    "            steps_per_epoch=self.steps_per_epoch,\n",
    "            validation_steps=self.validation_steps,\n",
    "            validation_data=self.valid_generator\n",
    "        )\n",
    "\n",
    "        self.save_model(\n",
    "            path=self.config.trained_model_path,\n",
    "            model=self.model\n",
    "        )"
   ]
  },
  {
   "cell_type": "code",
   "execution_count": 11,
   "metadata": {},
   "outputs": [
    {
     "name": "stdout",
     "output_type": "stream",
     "text": [
      "[2024-06-05 12:38:56,440: INFO: common: yaml file: config\\config.yaml loaded successfully]\n"
     ]
    },
    {
     "name": "stdout",
     "output_type": "stream",
     "text": [
      "[2024-06-05 12:38:56,452: INFO: common: yaml file: params.yaml loaded successfully]\n",
      "[2024-06-05 12:38:56,455: INFO: common: created directory at: artifacts]\n",
      "[2024-06-05 12:38:56,456: INFO: common: created directory at: artifacts\\training]\n",
      "Found 631 images belonging to 4 classes.\n",
      "Found 2529 images belonging to 4 classes.\n",
      "Epoch 1/15\n",
      "158/158 [==============================] - 978s 6s/step - loss: 1.4776 - accuracy: 0.3864 - val_loss: 1.0616 - val_accuracy: 0.5048\n",
      "Epoch 2/15\n",
      "158/158 [==============================] - 962s 6s/step - loss: 1.2630 - accuracy: 0.4787 - val_loss: 1.2506 - val_accuracy: 0.5481\n",
      "Epoch 3/15\n",
      "158/158 [==============================] - 966s 6s/step - loss: 1.0723 - accuracy: 0.5555 - val_loss: 0.9813 - val_accuracy: 0.5833\n",
      "Epoch 4/15\n",
      "158/158 [==============================] - 957s 6s/step - loss: 0.9718 - accuracy: 0.5957 - val_loss: 0.9639 - val_accuracy: 0.5737\n",
      "Epoch 5/15\n",
      "158/158 [==============================] - 958s 6s/step - loss: 0.9589 - accuracy: 0.6136 - val_loss: 0.9048 - val_accuracy: 0.6186\n",
      "Epoch 6/15\n",
      "158/158 [==============================] - 958s 6s/step - loss: 0.8926 - accuracy: 0.6411 - val_loss: 1.1870 - val_accuracy: 0.5208\n",
      "Epoch 7/15\n",
      "158/158 [==============================] - 953s 6s/step - loss: 0.8944 - accuracy: 0.6431 - val_loss: 1.0842 - val_accuracy: 0.5497\n",
      "Epoch 8/15\n",
      "158/158 [==============================] - 947s 6s/step - loss: 0.8345 - accuracy: 0.6641 - val_loss: 1.5213 - val_accuracy: 0.5016\n",
      "Epoch 9/15\n",
      "158/158 [==============================] - 947s 6s/step - loss: 0.7997 - accuracy: 0.6900 - val_loss: 0.9079 - val_accuracy: 0.5978\n",
      "Epoch 10/15\n",
      "158/158 [==============================] - 950s 6s/step - loss: 0.7995 - accuracy: 0.6809 - val_loss: 1.0998 - val_accuracy: 0.5288\n",
      "Epoch 11/15\n",
      "158/158 [==============================] - 1016s 6s/step - loss: 0.7775 - accuracy: 0.6864 - val_loss: 0.8825 - val_accuracy: 0.6587\n",
      "Epoch 12/15\n",
      "158/158 [==============================] - 954s 6s/step - loss: 0.7996 - accuracy: 0.6904 - val_loss: 0.9487 - val_accuracy: 0.6058\n",
      "Epoch 13/15\n",
      "158/158 [==============================] - 959s 6s/step - loss: 0.7522 - accuracy: 0.7230 - val_loss: 0.8066 - val_accuracy: 0.6683\n",
      "Epoch 14/15\n",
      "158/158 [==============================] - 958s 6s/step - loss: 0.6999 - accuracy: 0.7275 - val_loss: 0.8955 - val_accuracy: 0.6282\n",
      "Epoch 15/15\n",
      "158/158 [==============================] - 963s 6s/step - loss: 0.7302 - accuracy: 0.7211 - val_loss: 1.1443 - val_accuracy: 0.5962\n"
     ]
    }
   ],
   "source": [
    "try:\n",
    "    config = ConfigurationManager()\n",
    "    training_config = config.get_training_config()\n",
    "    training = Training(config=training_config)\n",
    "    training.get_base_model()\n",
    "    training.train_valid_generator()\n",
    "    training.train()\n",
    "except Exception as e:\n",
    "    raise e"
   ]
  }
 ],
 "metadata": {
  "kernelspec": {
   "display_name": "tf_DL",
   "language": "python",
   "name": "python3"
  },
  "language_info": {
   "codemirror_mode": {
    "name": "ipython",
    "version": 3
   },
   "file_extension": ".py",
   "mimetype": "text/x-python",
   "name": "python",
   "nbconvert_exporter": "python",
   "pygments_lexer": "ipython3",
   "version": "3.9.19"
  }
 },
 "nbformat": 4,
 "nbformat_minor": 2
}
